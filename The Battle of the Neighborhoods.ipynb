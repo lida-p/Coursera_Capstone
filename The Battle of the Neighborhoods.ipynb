{
    "cells": [
        {
            "cell_type": "markdown",
            "metadata": {
                "collapsed": true
            },
            "source": "# The Battle of the Neighborhoods: Toronto"
        },
        {
            "cell_type": "markdown",
            "metadata": {},
            "source": "*The purpose of the project is to identify the best area in Toronto for opening a Greek restaurant.*"
        },
        {
            "cell_type": "markdown",
            "metadata": {},
            "source": "## Background"
        },
        {
            "cell_type": "markdown",
            "metadata": {},
            "source": "Toronto is the most populous city in Canada with an estimated population of 2.81 million (2016) and serves as the country's principal commercial center. By all accounts, it is among the most diverse and multicultural cities in the world, with 200 ethnic groups and over 140 languages spoken, creating a vibrant and diverse culture.\nMoreover, as health and wellness trends in food and drink products have increasingly gathered momentum in the past years, opening a Greek restaurant in Toronto that is based on the traditional Mediterranean diet could be a quite lucrative business. \nWhile there are a number of factors that would determine the success of such a venture, my analysis with focus on identifying the ideal location for a Greek restaurant in Toronto."
        },
        {
            "cell_type": "markdown",
            "metadata": {},
            "source": "## Data"
        },
        {
            "cell_type": "markdown",
            "metadata": {},
            "source": "With the above in mind, there are three datasets that will be combindly analysed to serve the project's purpose."
        },
        {
            "cell_type": "markdown",
            "metadata": {},
            "source": "**Population & Income levels**\n* Rationale: The higher the income and the population in a given area, the better the location to open a restaurant.\n* Source: Relevant information is derived from [Canada's census](https://open.toronto.ca/dataset/neighbourhood-profiles/), conducted every 5 years, with the most recent one in 2016."
        },
        {
            "cell_type": "markdown",
            "metadata": {},
            "source": "**Geographical coordinates of neighborhoods**\n* Rationale: This information is necessary to create a map with the neighborhoods superimposed.\n* Source: Latitude and longitude of each neighborhood will be extracted using the Nominatim function of GeoPy's geocoders."
        },
        {
            "cell_type": "markdown",
            "metadata": {},
            "source": "**Locations of Greek restaurants**\n* Rationale: The lower the number of Greek restaurants in an area, the better the location.\n* Source: Locations of Greek restaurants will be provided through Foursquare API."
        },
        {
            "cell_type": "code",
            "execution_count": null,
            "metadata": {},
            "outputs": [],
            "source": ""
        }
    ],
    "metadata": {
        "kernelspec": {
            "display_name": "Python 3.6",
            "language": "python",
            "name": "python3"
        },
        "language_info": {
            "codemirror_mode": {
                "name": "ipython",
                "version": 3
            },
            "file_extension": ".py",
            "mimetype": "text/x-python",
            "name": "python",
            "nbconvert_exporter": "python",
            "pygments_lexer": "ipython3",
            "version": "3.6.8"
        }
    },
    "nbformat": 4,
    "nbformat_minor": 1
}